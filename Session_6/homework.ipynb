{
 "cells": [
  {
   "cell_type": "markdown",
   "id": "8efd2589",
   "metadata": {},
   "source": [
    "# Pandas homework"
   ]
  },
  {
   "attachments": {
    "image.png": {
     "image/png": "[encoded data removed]"
    }
   },
   "cell_type": "markdown",
   "id": "5b409d15",
   "metadata": {},
   "source": [
    "Please use folder source_files folder for source csv files, output_files folder for files that you will export during you homework (tasks ): \n",
    "\n",
    "![image.png](attachment:image.png)"
   ]
  },
  {
   "attachments": {
    "image.png": {
     "image/png": "[encoded data removed]"
    }
   },
   "cell_type": "markdown",
   "id": "0b644419",
   "metadata": {},
   "source": [
    "Source_files foder should looks like:\n",
    "\n",
    "![image.png](attachment:image.png)"
   ]
  },
  {
   "attachments": {
    "image.png": {
     "image/png": "[encoded data removed]"
    }
   },
   "cell_type": "markdown",
   "id": "4645cf59",
   "metadata": {},
   "source": [
    "Output_files folder should looks like:\n",
    "![image.png](attachment:image.png)"
   ]
  },
  {
   "cell_type": "markdown",
   "id": "2a4d1745",
   "metadata": {},
   "source": [
    "Please do not change test cells, just run them after you write you code and check if the result is correct."
   ]
  },
  {
   "cell_type": "code",
   "execution_count": 3,
   "id": "aabbbe9a",
   "metadata": {},
   "outputs": [],
   "source": [
    "import os\n",
    "import pandas as pd\n",
    "import numpy as np\n",
    "\n",
    "# Add other needed imports here:\n",
    "\n"
   ]
  },
  {
   "cell_type": "code",
   "execution_count": 4,
   "id": "16fd86a4",
   "metadata": {},
   "outputs": [],
   "source": [
    "PATH_TO_SALES = \"./source_files/sales.csv\"\n",
    "PATH_TO_HOUSES = \"./source_files/houses.csv\"\n",
    "PATH_TO_EMPLOYEES = \"./source_files/employees.csv\""
   ]
  },
  {
   "cell_type": "markdown",
   "id": "d98aa6bc",
   "metadata": {},
   "source": [
    "### 1. Create 3 Dataframes(sales, houses, employees) for csv files"
   ]
  },
  {
   "cell_type": "code",
   "execution_count": null,
   "id": "dc343e44",
   "metadata": {},
   "outputs": [],
   "source": [
    "# Add your code here\n",
    "sales = \n",
    "houses = \n",
    "employees = "
   ]
  },
  {
   "cell_type": "code",
   "execution_count": null,
   "id": "dcb51455",
   "metadata": {
    "deletable": false,
    "editable": false
   },
   "outputs": [],
   "source": [
    "assert 993112 == len(sales), (\n",
    "    \"Incorrect size of sales DataFrame\"\n",
    ")\n",
    "assert 1019875 == len(houses), (\n",
    "    \"Incorrect size of houses DataFrame\"\n",
    ")\n",
    "assert 870 == len(employees), (\n",
    "    \"Incorrect size of employees DataFrame\"\n",
    ")\n",
    "assert (['LOCATION_ID', 'HOUSE_ID', 'DATERECORDED', 'BRANCH_ID', 'CUSTOMER_ID',\n",
    "       'COST', 'SALEAMOUNT', 'PAYMENT_TYPE_ID', 'PAYMENT_TYPE', 'EMP_ID'] == sales.columns).all(), (\n",
    "    \"Incorrect column names for sales DataFrame\"\n",
    ")\n",
    "assert (['HOUSE_ID', 'HOUSE_NAME', 'HOUSE_CATEGORY_ID', 'HOUSE_CATEGORY',\n",
    "       'HOUSE_SUBCATEGORY_ID', 'HOUSE_SUBCATEGORY', 'SQUARE', 'PRICE',\n",
    "       'LOCATION_ID', 'UPDATE_DT'] == houses.columns).all(), (\n",
    "    \"Incorrect column names for houses DataFrame\"\n",
    ")\n",
    "assert (['EMP_ID', 'EMP_FIRST_NAME', 'EMP_LAST_NAME', 'EMP_GENDER',\n",
    "       'EMP_DATE_BIRTH', 'EMP_START_DATE', 'EMP_BRANCH'] == employees.columns).all(), (\n",
    "    \"Incorrect column names for employees DataFrame\"\n",
    ")\n",
    "print(\"Tests were passed\")"
   ]
  },
  {
   "cell_type": "markdown",
   "id": "a1912e2c",
   "metadata": {},
   "source": [
    "###  2. Extract employee first name/last name from 3 to 10 rows(including) from Employees"
   ]
  },
  {
   "cell_type": "code",
   "execution_count": null,
   "id": "6e5f1e29",
   "metadata": {},
   "outputs": [],
   "source": [
    "# Add your code here\n",
    "names = "
   ]
  },
  {
   "cell_type": "code",
   "execution_count": null,
   "id": "acfdf313",
   "metadata": {
    "deletable": false,
    "editable": false
   },
   "outputs": [],
   "source": [
    "assert \"Shelia\" == names.iloc[0]['EMP_FIRST_NAME'], (\n",
    "    \"Incorrect name of first person\"\n",
    ")\n",
    "assert \"Larchier\" == names.iloc[0]['EMP_LAST_NAME'], (\n",
    "    \"Incorrect surname of first person\"\n",
    ")\n",
    "assert \"Andonis\" == names.iloc[7]['EMP_FIRST_NAME'], (\n",
    "    \"Incorrect name of last person\"\n",
    ")\n",
    "assert \"Muress\" == names.iloc[7]['EMP_LAST_NAME'], (\n",
    "    \"Incorrect surname of last person\"\n",
    ")\n",
    "print(\"Tests were passed\")"
   ]
  },
  {
   "cell_type": "markdown",
   "id": "7f3cd382",
   "metadata": {},
   "source": [
    "### 3. Get amount of men/women among all employees (Please use function value_counts())"
   ]
  },
  {
   "cell_type": "code",
   "execution_count": null,
   "id": "32e0d092",
   "metadata": {},
   "outputs": [],
   "source": [
    "# Add your code here\n",
    "amount_by_gender = "
   ]
  },
  {
   "cell_type": "code",
   "execution_count": null,
   "id": "3bd87f6d",
   "metadata": {
    "deletable": false,
    "editable": false
   },
   "outputs": [],
   "source": [
    "assert (amount_by_gender.index[0] == \"M\") and (amount_by_gender[0] == 436), (\n",
    "    \"Incorrect number of men\"\n",
    ")\n",
    "assert (amount_by_gender.index[1] == \"F\") and (amount_by_gender[1] == 434), (\n",
    "    \"Incorrect number of women\"\n",
    ")\n",
    "print(\"Tests were passed\")"
   ]
  },
  {
   "cell_type": "markdown",
   "id": "53ae7c8e",
   "metadata": {},
   "source": [
    "### 4. Fill empty cells by 0 in column “square” in houses dataframe"
   ]
  },
  {
   "cell_type": "code",
   "execution_count": null,
   "id": "579dcf9f",
   "metadata": {},
   "outputs": [],
   "source": [
    "# Add you code here (change 'houses' DataFrame directly)\n"
   ]
  },
  {
   "cell_type": "code",
   "execution_count": null,
   "id": "35570a26",
   "metadata": {
    "deletable": false,
    "editable": false
   },
   "outputs": [],
   "source": [
    "assert len(houses[houses[\"SQUARE\"].isna()]) == 0, (\n",
    "    \"There are empty cells on square columns\"\n",
    ")\n",
    "print(\"Test was passed\")"
   ]
  },
  {
   "cell_type": "markdown",
   "id": "42086986",
   "metadata": {},
   "source": [
    "### 5. Create new column “UNIT_PRICE” for price/1m2 (Please use the following formula: price/square) + round the result to 2 digits after point. Use -1 for \"UNIT_PRICE\" in case square = 0"
   ]
  },
  {
   "cell_type": "code",
   "execution_count": null,
   "id": "b41b29d6",
   "metadata": {
    "scrolled": true
   },
   "outputs": [],
   "source": [
    "# Add you code here (add new column to 'houses' DataFrame directly)\n"
   ]
  },
  {
   "cell_type": "code",
   "execution_count": 2,
   "id": "c17aab5d",
   "metadata": {
    "deletable": false,
    "editable": false
   },
   "outputs": [],
   "source": [
    "assert ('UNIT_PRICE' in houses) == True, (\n",
    "    \"UNIT_PRICE column is missed in houses DataFrame\"\n",
    ")\n",
    "assert houses['UNIT_PRICE'].iloc[0] == 2015, (\n",
    "    \"UNIT_PRICE column is calculated incorrectly in houses DataFrame\"\n",
    ")\n",
    "assert houses['UNIT_PRICE'].iloc[31] == 2015.00, (\n",
    "    \"Incorrect rounding for UNIT_PRICE column in houses DataFrame\"\n",
    ")\n",
    "assert houses['UNIT_PRICE'].iloc[20] == -1, (\n",
    "    \"Incorrect value for UNIT_PRICE column in houses DataFrame in case SQUARE column = 0\"\n",
    ")\n",
    "print(\"Tests were passed\")"
   ]
  },
  {
   "cell_type": "markdown",
   "id": "e0bc0f1c",
   "metadata": {},
   "source": [
    "### 6. Sort houses dataframe by price descending; put the result to json file ('output_files/task_6.json')."
   ]
  },
  {
   "cell_type": "code",
   "execution_count": null,
   "id": "d6495f38",
   "metadata": {},
   "outputs": [],
   "source": [
    "# Add you code here\n"
   ]
  },
  {
   "cell_type": "code",
   "execution_count": null,
   "id": "f559bb67",
   "metadata": {
    "deletable": false,
    "editable": false
   },
   "outputs": [],
   "source": [
    "assert houses[\"PRICE\"].iloc[-1] == 30400, (\n",
    "    \"Incorrect sorting\"\n",
    ")\n",
    "assert houses[\"PRICE\"].iloc[0] == 558600, (\n",
    "    \"Incorrect sorting\"\n",
    ")\n",
    "assert os.path.exists('./output_files/task_6.json') == True, (\n",
    "    \"No task_6.json file in the output_files folder\"\n",
    ")\n",
    "print(\"Tests were passed\")"
   ]
  },
  {
   "cell_type": "markdown",
   "id": "9ffa4633",
   "metadata": {},
   "source": [
    "### 7. Please filter employees dataframe and find how much women with name ‘Vera’ we have"
   ]
  },
  {
   "cell_type": "code",
   "execution_count": null,
   "id": "826c98ee",
   "metadata": {},
   "outputs": [],
   "source": [
    "# Add you code here\n",
    "employees_filtered = "
   ]
  },
  {
   "cell_type": "code",
   "execution_count": null,
   "id": "49e335d3",
   "metadata": {
    "deletable": false,
    "editable": false
   },
   "outputs": [],
   "source": [
    "assert len(employees_filtered) == 1, (\n",
    "    \"Incorrect number of women\"\n",
    ")\n",
    "print(\"Test was passed\")"
   ]
  },
  {
   "cell_type": "markdown",
   "id": "4fbf5046",
   "metadata": {},
   "source": [
    "### 8. Please count (size()) how many houses do we have with square >= 100 m2, group by category and subcategory.\n"
   ]
  },
  {
   "cell_type": "code",
   "execution_count": null,
   "id": "af2012ab",
   "metadata": {},
   "outputs": [],
   "source": [
    "#Add you code here\n",
    "df = "
   ]
  },
  {
   "cell_type": "code",
   "execution_count": null,
   "id": "7a44af3c",
   "metadata": {
    "deletable": false,
    "editable": false
   },
   "outputs": [],
   "source": [
    "assert df[0] == 1150, (\n",
    "    \"Incorrect count\"\n",
    ")\n",
    "assert df[1] == 29644, (\n",
    "    \"Incorrect count\"\n",
    ")\n",
    "assert df[2] == 70076, (\n",
    "    \"Incorrect count\"\n",
    ")\n",
    "assert df[3] == 86618, (\n",
    "    \"Incorrect count\"\n",
    ")\n",
    "assert df.index[0]==('non-residential','office'), (\n",
    "    \"Incorrect group by columns\"\n",
    ")\n",
    "assert df.index[1]==('non-residential','stock'), (\n",
    "    \"Incorrect group by columns\"\n",
    ")\n",
    "assert df.index[2]==('residential','duplex house'), (\n",
    "    \"Incorrect group by columns\"\n",
    ")\n",
    "assert df.index[3]==('residential','single-family house'), (\n",
    "    \"Incorrect group by columns\"\n",
    ")\n",
    "print(\"Tests were passed\")"
   ]
  },
  {
   "cell_type": "markdown",
   "id": "5ee7da34",
   "metadata": {},
   "source": [
    "### 9. Put the result from task 7 to file .avro  ('output_files/task_9.avro')"
   ]
  },
  {
   "cell_type": "code",
   "execution_count": null,
   "id": "6d84da12",
   "metadata": {},
   "outputs": [],
   "source": [
    "#Add your code here\n"
   ]
  },
  {
   "cell_type": "code",
   "execution_count": null,
   "id": "cbd089bd",
   "metadata": {
    "deletable": false,
    "editable": false
   },
   "outputs": [],
   "source": [
    "assert os.path.exists('./output_files/task_9.avro') == True, (\n",
    "    \"No task_9.avro file in the output_files folder\"\n",
    ")\n",
    "print(\"Tests were passed\")"
   ]
  },
  {
   "cell_type": "markdown",
   "id": "a081d073",
   "metadata": {},
   "source": [
    "### 10. Please update “SALESAMOUNT” column according to the following rule “SALESAMOUNT” = “SALESAMOUNT” + avg value of SALESAMOUNT*0.02 (Please try to use apply and lambda for it)"
   ]
  },
  {
   "cell_type": "code",
   "execution_count": null,
   "id": "cc815d84",
   "metadata": {},
   "outputs": [],
   "source": [
    "# Add your code here\n"
   ]
  },
  {
   "cell_type": "code",
   "execution_count": null,
   "id": "14e22d09",
   "metadata": {
    "deletable": false,
    "editable": false
   },
   "outputs": [],
   "source": [
    "assert sales['SALEAMOUNT'][0] == 52000.740744939336, (\n",
    "    \"Value in SALESAMOUNT column is incorrect after update\"\n",
    ")\n",
    "print(\"Test was passed\")"
   ]
  },
  {
   "cell_type": "markdown",
   "id": "09743eed",
   "metadata": {},
   "source": [
    "### 11. Please find all houses that are unsold yet (exists in houses but does not exist in sales, join by house_id). Put house ids to .json ('output_files/task_11.json'). Put result list of unique house ids into house_ids_available list"
   ]
  },
  {
   "cell_type": "code",
   "execution_count": null,
   "id": "5dc3f0ec",
   "metadata": {},
   "outputs": [],
   "source": [
    "# Add your code here\n",
    "\n",
    "# Put result list of unique house ids into house_ids_available list\n",
    "house_ids_available "
   ]
  },
  {
   "cell_type": "code",
   "execution_count": null,
   "id": "83605d86",
   "metadata": {
    "deletable": false,
    "editable": false
   },
   "outputs": [],
   "source": [
    "assert os.path.exists('./output_files/task_11.json') == True, (\n",
    "    \"No task_11.json file in the output_files folder\"\n",
    ")\n",
    "assert type(house_ids_available) == list, (\n",
    "    \"house_ids_available is not list\"\n",
    ")\n",
    "assert len(house_ids_available) == 26775, (\n",
    "    \"Incorrect number of houses\"\n",
    ")\n",
    "assert (917505 in house_ids_available) and (131073 in house_ids_available), (\n",
    "    \"Incorrect values in house_ids_available list\"\n",
    ")\n",
    "print(\"Tests were passed\")"
   ]
  },
  {
   "cell_type": "markdown",
   "id": "17dd82d8",
   "metadata": {},
   "source": [
    "### *12. Please find sum of sales_amount by each employee, put the result to excel ('output_files/task_12.xlsx') (emp_id, emp_first_name, emp_last_name, sum(sales_amount)) and mark employees who have less than average sales_amount with red."
   ]
  },
  {
   "cell_type": "code",
   "execution_count": null,
   "id": "329c316f",
   "metadata": {},
   "outputs": [],
   "source": [
    "# This task is optional \n",
    "# Add you code here"
   ]
  },
  {
   "cell_type": "code",
   "execution_count": null,
   "id": "021c8018",
   "metadata": {},
   "outputs": [],
   "source": []
  }
 ],
 "metadata": {
  "celltoolbar": "Необработанный формат ячейки",
  "kernelspec": {
   "display_name": "Python 3 (ipykernel)",
   "language": "python",
   "name": "python3"
  },
  "language_info": {
   "codemirror_mode": {
    "name": "ipython",
    "version": 3
   },
   "file_extension": ".py",
   "mimetype": "text/x-python",
   "name": "python",
   "nbconvert_exporter": "python",
   "pygments_lexer": "ipython3",
   "version": "3.8.8"
  }
 },
 "nbformat": 4,
 "nbformat_minor": 5
}
